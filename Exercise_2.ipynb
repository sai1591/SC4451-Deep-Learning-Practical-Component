{
  "nbformat": 4,
  "nbformat_minor": 0,
  "metadata": {
    "colab": {
      "provenance": []
    },
    "kernelspec": {
      "name": "python3",
      "display_name": "Python 3"
    },
    "language_info": {
      "name": "python"
    },
    "accelerator": "GPU"
  },
  "cells": [
    {
      "cell_type": "markdown",
      "source": [
        "#DEEP LEARNING EXERCISE 1\n",
        "\n",
        "##Bhavesh Kumar Reddy\n",
        "##19113083\n",
        "##CSE-7B"
      ],
      "metadata": {
        "id": "8ZwBc-PhgKag"
      }
    },
    {
      "cell_type": "markdown",
      "source": [
        "###Write a program in Python to Calculate the output of a simple neuron "
      ],
      "metadata": {
        "id": "0FeSbbRKwu_o"
      }
    },
    {
      "cell_type": "markdown",
      "source": [],
      "metadata": {
        "id": "U_r396mFw0K_"
      }
    },
    {
      "cell_type": "markdown",
      "source": [
        "# Step 1: Import NumPy, Scikit-learn and Matplotlib\n",
        "We will be using three packages for this project. NumPy will be used for creating vectors and matrices, as well as mathematical operations. Scikit-learn will be used for scaling the data, and Matplotlib will be used for plotting the error development during the training of the neural network."
      ],
      "metadata": {
        "id": "z9Up-JWGw0OH"
      }
    },
    {
      "cell_type": "code",
      "source": [
        "import numpy as np\n",
        "from sklearn.preprocessing import MinMaxScaler\n",
        "import matplotlib.pyplot as plt"
      ],
      "metadata": {
        "id": "7iKKM5NWayHw"
      },
      "execution_count": null,
      "outputs": []
    },
    {
      "cell_type": "markdown",
      "source": [
        "# Step 2: Create a Training and Test Data Set\n",
        "To make sure that the model is evaluated based on how good it is to predict new data points, and not how well it is modeled to the current ones, it is common to split the datasets into one training set and one test set"
      ],
      "metadata": {
        "id": "OJ7Fmp60w-QO"
      }
    },
    {
      "cell_type": "code",
      "source": [
        "input_train = np.array([[0, 1, 0], [0, 1, 1], [0, 0, 0], \n",
        "                        [10, 0, 0], [10, 1, 1], [10, 0, 1]])\n",
        "output_train = np.array([[0], [0], [0], [1], [1], [1]])\n",
        "input_pred = np.array([1, 1, 0])\n",
        "\n",
        "input_test = np.array([[1, 1, 1], [10, 0, 1], [0, 1, 10], \n",
        "                       [10, 1, 10], [0, 0, 0], [0, 1, 1]])\n",
        "output_test = np.array([[0], [1], [0], [1], [0], [0]])"
      ],
      "metadata": {
        "id": "fEiIakG_a1u2"
      },
      "execution_count": null,
      "outputs": []
    },
    {
      "cell_type": "markdown",
      "source": [
        "In this simple neural network, we will classify 1x3 vectors with 10 as the first element. Input and output training and test sets are created using NumPy’s array function, and input_pred is created to test a prediction function that will be defined later. Both the training and the test data are comprised of six samples with three features each, and since the output is given, we understand that this is an example of supervised learning."
      ],
      "metadata": {
        "id": "eIQt6XKWxob9"
      }
    },
    {
      "cell_type": "markdown",
      "source": [
        "# Step 3: Scale the Data\n",
        "Doing feature scaling is extremely easy in Python due to the Scikit-learn package, and its MinMaxScaler class. Simply create a MinMaxScaler object, and use the fit_transform function with your non-scaled data as input, and the function will return the same data scaled. "
      ],
      "metadata": {
        "id": "TeIly5PGxth8"
      }
    },
    {
      "cell_type": "code",
      "source": [
        "scaler = MinMaxScaler()\n",
        "input_train_scaled = scaler.fit_transform(input_train)\n",
        "output_train_scaled = scaler.fit_transform(output_train)\n",
        "input_test_scaled = scaler.fit_transform(input_test)\n",
        "output_test_scaled = scaler.fit_transform(output_test)"
      ],
      "metadata": {
        "id": "KWW8_nmGbX98"
      },
      "execution_count": null,
      "outputs": []
    },
    {
      "cell_type": "markdown",
      "source": [
        "# Step 4: Create a Neural Network Class"
      ],
      "metadata": {
        "id": "TUr-LgDTyG_W"
      }
    },
    {
      "cell_type": "code",
      "source": [
        "class NeuralNetwork():\n",
        "    def __init__(self, ):\n",
        "        self.inputSize = 3\n",
        "        self.outputSize = 1\n",
        "        self.hiddenSize = 3\n",
        "\n",
        "        self.W1 = np.random.rand(self.inputSize, self.hiddenSize)\n",
        "        self.W2 = np.random.rand(self.hiddenSize, self.outputSize)\n",
        "\n",
        "        self.error_list = []\n",
        "        self.limit = 0.5\n",
        "        self.true_positives = 0\n",
        "        self.false_positives = 0\n",
        "        self.true_negatives = 0\n",
        "        self.false_negatives = 0\n",
        "\n",
        "    def forward(self, X):\n",
        "        self.z = np.matmul(X, self.W1)\n",
        "        self.z2 = self.sigmoid(self.z)\n",
        "        self.z3 = np.matmul(self.z2, self.W2)\n",
        "        o = self.sigmoid(self.z3)\n",
        "        return o\n",
        "\n",
        "    def sigmoid(self, s):\n",
        "        return 1 / (1 + np.exp(-s))\n",
        "\n",
        "    def sigmoidPrime(self, s):\n",
        "        return s * (1 - s)\n",
        "\n",
        "    def backward(self, X, y, o):\n",
        "        self.o_error = y - o\n",
        "        self.o_delta = self.o_error * self.sigmoidPrime(o)\n",
        "        self.z2_error = np.matmul(self.o_delta,\n",
        "                                  np.matrix.transpose(self.W2))\n",
        "        self.z2_delta = self.z2_error * self.sigmoidPrime(self.z2)\n",
        "        self.W1 += np.matmul(np.matrix.transpose(X), self.z2_delta)\n",
        "        self.W2 += np.matmul(np.matrix.transpose(self.z2),\n",
        "                             self.o_delta)\n",
        "\n",
        "    def train(self, X, y, epochs):\n",
        "        for epoch in range(epochs):\n",
        "            o = self.forward(X)\n",
        "            self.backward(X, y, o)\n",
        "            self.error_list.append(np.abs(self.o_error).mean())\n",
        "\n",
        "    def predict(self, x_predicted):\n",
        "        return self.forward(x_predicted).item()\n",
        "\n",
        "    def view_error_development(self):\n",
        "        plt.plot(range(len(self.error_list)), self.error_list)\n",
        "        plt.title('Mean Sum Squared Loss')\n",
        "        plt.xlabel('Epoch')\n",
        "        plt.ylabel('Loss')\n",
        "\n",
        "    def test_evaluation(self, input_test, output_test):\n",
        "        for i, test_element in enumerate(input_test):\n",
        "            if self.predict(test_element) > self.limit and \\\n",
        "                    output_test[i] == 1:\n",
        "                self.true_positives += 1\n",
        "            if self.predict(test_element) < self.limit and \\\n",
        "                    output_test[i] == 1:\n",
        "                self.false_negatives += 1\n",
        "            if self.predict(test_element) > self.limit and \\\n",
        "                    output_test[i] == 0:\n",
        "                self.false_positives += 1\n",
        "            if self.predict(test_element) < self.limit and \\\n",
        "                    output_test[i] == 0:\n",
        "                self.true_negatives += 1\n",
        "        print('True positives: ', self.true_positives,\n",
        "              '\\nTrue negatives: ', self.true_negatives,\n",
        "              '\\nFalse positives: ', self.false_positives,\n",
        "              '\\nFalse negatives: ', self.false_negatives,\n",
        "              '\\nAccuracy: ',\n",
        "              (self.true_positives + self.true_negatives) /\n",
        "              (self.true_positives + self.true_negatives +\n",
        "               self.false_positives + self.false_negatives))\n"
      ],
      "metadata": {
        "id": "5XX3915Hbftt"
      },
      "execution_count": null,
      "outputs": []
    },
    {
      "cell_type": "code",
      "source": [
        "def __init__(self, ):\n",
        "    self.inputSize = 3\n",
        "    self.outputSize = 1\n",
        "    self.hiddenSize = 3\n",
        "\n",
        "    self.W1 = torch.randn(self.inputSize, self.hiddenSize)\n",
        "    self.W2 = torch.randn(self.hiddenSize, self.outputSize)\n",
        "\n",
        "    self.error_list = []\n",
        "    self.limit = 0.5\n",
        "    self.true_positives = 0\n",
        "    self.false_positives = 0\n",
        "    self.true_negatives = 0\n",
        "    self.false_negatives = 0"
      ],
      "metadata": {
        "id": "rPlXyn3FbkXk"
      },
      "execution_count": null,
      "outputs": []
    },
    {
      "cell_type": "code",
      "source": [
        "def forward(self, X):\n",
        "        self.z = np.matmul(X, self.W1)\n",
        "        self.z2 = self.sigmoid(self.z)\n",
        "        self.z3 = np.matmul(self.z2, self.W2)\n",
        "        o = self.sigmoid(self.z3)\n",
        "        return o"
      ],
      "metadata": {
        "id": "0o_-hIrzbo-0"
      },
      "execution_count": null,
      "outputs": []
    },
    {
      "cell_type": "code",
      "source": [
        "def backward(self, X, y, o):\n",
        "        self.o_error = y - o\n",
        "        self.o_delta = self.o_error * self.sigmoidPrime(o)\n",
        "        self.z2_error = np.matmul(self.o_delta,\n",
        "                                  np.matrix.transpose(self.W2))\n",
        "        self.z2_delta = self.z2_error * self.sigmoidPrime(self.z2)\n",
        "        self.W1 += np.matmul(np.matrix.transpose(X), self.z2_delta)\n",
        "        self.W2 += np.matmul(np.matrix.transpose(self.z2),\n",
        "                             self.o_delta)"
      ],
      "metadata": {
        "id": "JSIIpmNDbtn9"
      },
      "execution_count": null,
      "outputs": []
    },
    {
      "cell_type": "code",
      "source": [
        "def train(self, X, y, epochs):\n",
        "        for epoch in range(epochs):\n",
        "            o = self.forward(X)\n",
        "            self.backward(X, y, o)\n",
        "            self.error_list.append(np.abs(self.o_error).mean())"
      ],
      "metadata": {
        "id": "U1ow29bDbvcf"
      },
      "execution_count": null,
      "outputs": []
    },
    {
      "cell_type": "code",
      "source": [
        "def predict(self, x_predicted):\n",
        "        return self.forward(x_predicted).item()"
      ],
      "metadata": {
        "id": "_CQE2gkxb2DV"
      },
      "execution_count": null,
      "outputs": []
    },
    {
      "cell_type": "code",
      "source": [
        "def view_error_development(self):\n",
        "        plt.plot(range(len(self.error_list)), self.error_list)\n",
        "        plt.title('Mean Sum Squared Loss')\n",
        "        plt.xlabel('Epoch')\n",
        "        plt.ylabel('Loss')"
      ],
      "metadata": {
        "id": "AKF8OwW1b5b8"
      },
      "execution_count": null,
      "outputs": []
    },
    {
      "cell_type": "code",
      "source": [
        "def test_evaluation(self, input_test, output_test):\n",
        "        for i, test_element in enumerate(input_test):\n",
        "            if self.predict(test_element) > self.limit and \\\n",
        "                    output_test[i] == 1:\n",
        "                self.true_positives += 1\n",
        "            if self.predict(test_element) < self.limit and \\\n",
        "                    output_test[i] == 1:\n",
        "                self.false_negatives += 1\n",
        "            if self.predict(test_element) > self.limit and \\\n",
        "                    output_test[i] == 0:\n",
        "                self.false_positives += 1\n",
        "            if self.predict(test_element) < self.limit and \\\n",
        "                    output_test[i] == 0:\n",
        "                self.true_negatives += 1\n",
        "        print('True positives: ', self.true_positives,\n",
        "              '\\nTrue negatives: ', self.true_negatives,\n",
        "              '\\nFalse positives: ', self.false_positives,\n",
        "              '\\nFalse negatives: ', self.false_negatives,\n",
        "              '\\nAccuracy: ',\n",
        "              (self.true_positives + self.true_negatives) /\n",
        "              (self.true_positives + self.true_negatives +\n",
        "               self.false_positives + self.false_negatives))"
      ],
      "metadata": {
        "id": "l9_cKnXYcZyL"
      },
      "execution_count": null,
      "outputs": []
    },
    {
      "cell_type": "code",
      "source": [
        "NN = NeuralNetwork()\n",
        "NN.train(input_train_scaled, output_train_scaled, 200)\n",
        "NN.predict(input_pred)\n",
        "NN.view_error_development()\n",
        "NN.test_evaluation(input_test_scaled, output_test_scaled)"
      ],
      "metadata": {
        "colab": {
          "base_uri": "https://localhost:8080/",
          "height": 380
        },
        "id": "wN2U6B8KcbIk",
        "outputId": "f6097c7a-5312-4f5d-e1f5-620d6c95387f"
      },
      "execution_count": null,
      "outputs": [
        {
          "output_type": "stream",
          "name": "stdout",
          "text": [
            "True positives:  2 \n",
            "True negatives:  4 \n",
            "False positives:  0 \n",
            "False negatives:  0 \n",
            "Accuracy:  1.0\n"
          ]
        },
        {
          "output_type": "display_data",
          "data": {
            "text/plain": [
              "<Figure size 432x288 with 1 Axes>"
            ],
            "image/png": "[encoded data removed]"
          },
          "metadata": {
            "needs_background": "light"
          }
        }
      ]
    },
    {
      "cell_type": "code",
      "source": [],
      "metadata": {
        "id": "TGmA93e2cfil"
      },
      "execution_count": null,
      "outputs": []
    },
    {
      "cell_type": "markdown",
      "source": [],
      "metadata": {
        "id": "e4ZEf38dwtab"
      }
    }
  ]
}
